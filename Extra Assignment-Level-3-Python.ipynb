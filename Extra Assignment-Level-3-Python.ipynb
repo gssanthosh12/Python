{
 "cells": [
  {
   "cell_type": "code",
   "execution_count": null,
   "id": "f0cccce3-1327-485a-9994-b883d27e8248",
   "metadata": {},
   "outputs": [],
   "source": [
    "# list=[2,4,5,10,12,14,20]\n",
    "# value=input(\"value :\")\n",
    "# for i in list:\n",
    "value=int(input(\"value :\"))\n",
    "if(value==10):\n",
    "    print(\"Correct\")\n",
    "else:\n",
    "    print(\"Given Value is not equal to 10\")\n",
    "   "
   ]
  },
  {
   "cell_type": "code",
   "execution_count": 1,
   "id": "2e59ec0e-1707-4425-ae6c-099eb2d9d267",
   "metadata": {},
   "outputs": [
    {
     "name": "stdin",
     "output_type": "stream",
     "text": [
      "Enter the password:  HOPE@12321212\n"
     ]
    },
    {
     "name": "stdout",
     "output_type": "stream",
     "text": [
      "Enter the correct Password \n"
     ]
    }
   ],
   "source": [
    "password=input(\"Enter the password: \")\n",
    "if(password==\"HOPE@123\"):\n",
    "    print(\"Your password is correct\")\n",
    "else:\n",
    "    print(\"Enter the correct Password \")"
   ]
  },
  {
   "cell_type": "code",
   "execution_count": 11,
   "id": "bc71d067-e6e0-4e89-867d-fa411d20417b",
   "metadata": {},
   "outputs": [
    {
     "name": "stdin",
     "output_type": "stream",
     "text": [
      "Enter the Age :  20\n"
     ]
    },
    {
     "name": "stdout",
     "output_type": "stream",
     "text": [
      "Person is a  Adult and age today is  20\n"
     ]
    }
   ],
   "source": [
    "age = int(input(\"Enter the Age : \"))\n",
    "\n",
    "if(age>59):\n",
    "    print(\"Person is a Senior Citizen and age today is \",age)\n",
    "elif(age<=59 and age>=35):\n",
    "    print(\"Person is a  Citizen and age today is \",age)\n",
    "elif(age<35 and age>=18):\n",
    "    print(\"Person is a  Adult and age today is \",age)\n",
    "else:\n",
    "   print(\"Person is a  Minor and age today is \",age)"
   ]
  },
  {
   "cell_type": "code",
   "execution_count": 23,
   "id": "88959a66-71d4-4803-939b-580e615a1574",
   "metadata": {},
   "outputs": [
    {
     "name": "stdin",
     "output_type": "stream",
     "text": [
      "Enter any number: 2.2\n"
     ]
    },
    {
     "name": "stdout",
     "output_type": "stream",
     "text": [
      "Number is Positive\n"
     ]
    }
   ],
   "source": [
    "number=float(input(\"Enter any number:\"))\n",
    "if(number>0):\n",
    "    print(\"Number is Positive\")\n",
    "elif(number<0):\n",
    "    print(\"Number is Negative\")       \n",
    "else:\n",
    "    print(\"Number is neither positive nor Negative\")     "
   ]
  },
  {
   "cell_type": "code",
   "execution_count": 31,
   "id": "e633f0b1-444b-4705-9c51-89fdca23f611",
   "metadata": {},
   "outputs": [
    {
     "name": "stdin",
     "output_type": "stream",
     "text": [
      "Enter any number: 22\n"
     ]
    },
    {
     "name": "stdout",
     "output_type": "stream",
     "text": [
      "Number is not divisible by 5\n"
     ]
    }
   ],
   "source": [
    "num1=float(input(\"Enter any number:\"))\n",
    "if((num1%5)==0):\n",
    "    print(\"Number is divisible by 5\") \n",
    "else:\n",
    "    print(\"Number is not divisible by 5\")    "
   ]
  },
  {
   "cell_type": "code",
   "execution_count": null,
   "id": "dddd344a-eb86-47b5-87ea-003087d1e496",
   "metadata": {},
   "outputs": [],
   "source": []
  }
 ],
 "metadata": {
  "kernelspec": {
   "display_name": "Python [conda env:base] *",
   "language": "python",
   "name": "conda-base-py"
  },
  "language_info": {
   "codemirror_mode": {
    "name": "ipython",
    "version": 3
   },
   "file_extension": ".py",
   "mimetype": "text/x-python",
   "name": "python",
   "nbconvert_exporter": "python",
   "pygments_lexer": "ipython3",
   "version": "3.13.5"
  }
 },
 "nbformat": 4,
 "nbformat_minor": 5
}
