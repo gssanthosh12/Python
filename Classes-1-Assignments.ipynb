{
 "cells": [
  {
   "cell_type": "code",
   "execution_count": 1,
   "id": "9a9874f7-6c37-4de5-9522-92e04ef3b16f",
   "metadata": {},
   "outputs": [],
   "source": [
    "from subfieldsAI import SubfieldsInAI"
   ]
  },
  {
   "cell_type": "code",
   "execution_count": 2,
   "id": "510ede3c-88b4-4a5c-88b5-aa35ce55d12b",
   "metadata": {},
   "outputs": [
    {
     "name": "stdout",
     "output_type": "stream",
     "text": [
      "Sub-fields in AI are:\n",
      "MachineLearning\n",
      "NeuralNetworks\n",
      "Vision\n",
      "Robotics\n",
      "SpeechProcessing\n",
      "NaturalLanguageProcessing\n"
     ]
    }
   ],
   "source": [
    "SubfieldsInAI.subFields()"
   ]
  },
  {
   "cell_type": "code",
   "execution_count": 7,
   "id": "f25feed2-eaec-43ea-9cc8-80aa213084da",
   "metadata": {},
   "outputs": [],
   "source": [
    "from MultiClass import MultipleClass"
   ]
  },
  {
   "cell_type": "code",
   "execution_count": 8,
   "id": "ac61e4ba-784e-469f-9c4d-497f06fb7075",
   "metadata": {},
   "outputs": [
    {
     "name": "stdin",
     "output_type": "stream",
     "text": [
      "Enter the number  76543\n"
     ]
    },
    {
     "name": "stdout",
     "output_type": "stream",
     "text": [
      "76543  is Odd Number\n"
     ]
    }
   ],
   "source": [
    "MultipleClass.OddorEven()"
   ]
  },
  {
   "cell_type": "code",
   "execution_count": 10,
   "id": "3c9b0ef4-4d37-47f0-9cab-442abed8a812",
   "metadata": {},
   "outputs": [
    {
     "name": "stdout",
     "output_type": "stream",
     "text": [
      "NOT ELIGIBLE for Marriage\n"
     ]
    },
    {
     "data": {
      "text/plain": [
       "'Your Gender : Male\\nYour Age :20'"
      ]
     },
     "execution_count": 10,
     "metadata": {},
     "output_type": "execute_result"
    }
   ],
   "source": [
    "MultipleClass.check_marriage_eligibility(\"Male\",20)"
   ]
  },
  {
   "cell_type": "code",
   "execution_count": 11,
   "id": "9d9597ca-5011-4345-b9a6-b8cd4ad4131d",
   "metadata": {},
   "outputs": [
    {
     "name": "stdin",
     "output_type": "stream",
     "text": [
      "subject1= 98\n",
      "subject2= 89\n",
      "subject3= 79\n",
      "subject4= 69\n",
      "subject5= 66\n"
     ]
    },
    {
     "name": "stdout",
     "output_type": "stream",
     "text": [
      "Total is  401\n",
      "Percentage is: 80.2\n"
     ]
    }
   ],
   "source": [
    "MultipleClass.calculatepercent()"
   ]
  },
  {
   "cell_type": "code",
   "execution_count": 12,
   "id": "afd7a300-a2aa-43f3-80f7-8fef2a34ac5c",
   "metadata": {},
   "outputs": [
    {
     "name": "stdin",
     "output_type": "stream",
     "text": [
      "Height : 4\n",
      "Breadth : 5\n"
     ]
    },
    {
     "name": "stdout",
     "output_type": "stream",
     "text": [
      "Area formula: (Height*Breadth)/2\n",
      "Area of Triangle: 10.0\n"
     ]
    },
    {
     "name": "stdin",
     "output_type": "stream",
     "text": [
      "Height1: 10\n",
      "Height2: 15\n",
      "Breadth: 5\n"
     ]
    },
    {
     "name": "stdout",
     "output_type": "stream",
     "text": [
      "Perimeter formula: Height1+Height2+Breadth\n",
      "Perimeter of Triangle: 30\n"
     ]
    }
   ],
   "source": [
    "MultipleClass.Triangle_Area_Perimeter()"
   ]
  },
  {
   "cell_type": "code",
   "execution_count": null,
   "id": "1a263d2a-c26f-4043-8bfa-f0d294ab9ea0",
   "metadata": {},
   "outputs": [],
   "source": []
  }
 ],
 "metadata": {
  "kernelspec": {
   "display_name": "Python [conda env:base] *",
   "language": "python",
   "name": "conda-base-py"
  },
  "language_info": {
   "codemirror_mode": {
    "name": "ipython",
    "version": 3
   },
   "file_extension": ".py",
   "mimetype": "text/x-python",
   "name": "python",
   "nbconvert_exporter": "python",
   "pygments_lexer": "ipython3",
   "version": "3.13.5"
  }
 },
 "nbformat": 4,
 "nbformat_minor": 5
}
