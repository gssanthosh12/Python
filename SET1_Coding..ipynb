{
 "cells": [
  {
   "cell_type": "code",
   "execution_count": 13,
   "id": "5fd5c475",
   "metadata": {},
   "outputs": [
    {
     "name": "stdout",
     "output_type": "stream",
     "text": [
      "1\n",
      "2\n",
      "3\n",
      "4\n",
      "5\n"
     ]
    }
   ],
   "source": [
    "# 1.Write a Python program that prints numbers from 1 to 5.\n",
    "# Expected Output:\n",
    "# 1 2 3 4 5\n",
    "\n",
    "for i in range(1,6):\n",
    "    print(i)\n"
   ]
  },
  {
   "cell_type": "code",
   "execution_count": 21,
   "id": "3c8bc472",
   "metadata": {},
   "outputs": [
    {
     "name": "stdout",
     "output_type": "stream",
     "text": [
      "0\n",
      "2\n",
      "4\n",
      "6\n",
      "8\n",
      "10\n"
     ]
    }
   ],
   "source": [
    "# 2.Write a Python program to print the first 5 even numbers. Expected Output:\n",
    "# 2 4 6 8 10\n",
    "for i in range(0,12,2):\n",
    "    print(i)\n",
    "\n",
    "\n",
    "\n"
   ]
  },
  {
   "cell_type": "code",
   "execution_count": null,
   "id": "5e7af211",
   "metadata": {},
   "outputs": [],
   "source": [
    "3.Write a Python program to print the sum of numbers from 1 to 10. \n",
    "Expected Output:55\n",
    "\n"
   ]
  },
  {
   "cell_type": "code",
   "execution_count": 29,
   "id": "ac09aa1a",
   "metadata": {},
   "outputs": [
    {
     "data": {
      "text/plain": [
       "24"
      ]
     },
     "execution_count": 29,
     "metadata": {},
     "output_type": "execute_result"
    }
   ],
   "source": [
    "# 4.Write a Python function to find the factorial of 5. Expected Output:\n",
    "# 120\n",
    "\n",
    "def factorial(n):\n",
    "    if(n==0):\n",
    "        return 1\n",
    "    else:\n",
    "        return n*factorial(n-1)\n",
    "\n",
    "factorial(4)\n",
    "\n",
    "# I dont know the logic so i saw this program in Python Interview question pdf provided 34th Class\n",
    "# factorial formula n! = (n-1)*(n-2)*(n-3) ...1) "
   ]
  },
  {
   "cell_type": "code",
   "execution_count": 32,
   "id": "8ab9fc8a",
   "metadata": {},
   "outputs": [],
   "source": [
    "# 5.Write a Python program to check if a number is prime. Expected Output (for input 7):\n",
    "# 7 is a prime number\n",
    "\n"
   ]
  }
 ],
 "metadata": {
  "kernelspec": {
   "display_name": "Python [conda env:base] *",
   "language": "python",
   "name": "conda-base-py"
  },
  "language_info": {
   "codemirror_mode": {
    "name": "ipython",
    "version": 3
   },
   "file_extension": ".py",
   "mimetype": "text/x-python",
   "name": "python",
   "nbconvert_exporter": "python",
   "pygments_lexer": "ipython3",
   "version": "3.13.5"
  }
 },
 "nbformat": 4,
 "nbformat_minor": 5
}
