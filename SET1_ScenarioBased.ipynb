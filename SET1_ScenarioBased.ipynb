{
 "cells": [
  {
   "cell_type": "code",
   "execution_count": 7,
   "id": "627076fa-c6e6-4c63-a647-d6beaabde030",
   "metadata": {},
   "outputs": [
    {
     "name": "stdin",
     "output_type": "stream",
     "text": [
      "Enter the age for Vote 15\n"
     ]
    },
    {
     "name": "stdout",
     "output_type": "stream",
     "text": [
      "Person is not eligible for Voting as of today he/she is Minor and less than 18 years\n"
     ]
    }
   ],
   "source": [
    "# 1.\tScenario: A system checks if a user is eligible to vote based on their age.\n",
    "#  Write logic to ask the user for their age and determine if they are eligible to vote based on whether they are 18 or older.\n",
    "\n",
    "def VotingAge():\n",
    "    age=int(input(\"Enter the age for Vote\"))\n",
    "    if(age>=18):\n",
    "        print(\"Person is eligible for Voting as of today he/she is\",age,\" years\")\n",
    "    else:\n",
    "        print(\"Person is not eligible for Voting as of today he/she is Minor and less than 18 years\")\n",
    "\n",
    "VotingAge()\n",
    "\n"
   ]
  },
  {
   "cell_type": "code",
   "execution_count": 32,
   "id": "8dcde97e-0f0b-4a93-93ff-b46b701ee411",
   "metadata": {},
   "outputs": [
    {
     "name": "stdout",
     "output_type": "stream",
     "text": [
      "The Largest Number in this List is  43\n"
     ]
    }
   ],
   "source": [
    "# 2.\tScenario: A program processes a list of numbers and needs to find the largest value.\n",
    "#  Write logic to identify and return the largest number from a given list.\n",
    "\n",
    "def findlargest(numbers):\n",
    "   \n",
    "    largest =numbers[0]\n",
    "    for num in numbers:\n",
    "        if num > largest:\n",
    "            largest = num\n",
    "    print(\"The Largest Number in this List is \",largest)\n",
    "\n",
    "findlargest([22,43,25,11,12])\n"
   ]
  },
  {
   "cell_type": "code",
   "execution_count": 36,
   "id": "9047ed53-b364-4994-8fdf-1907dfd51085",
   "metadata": {},
   "outputs": [
    {
     "name": "stdin",
     "output_type": "stream",
     "text": [
      "Enter the Salary 90000\n"
     ]
    },
    {
     "name": "stdout",
     "output_type": "stream",
     "text": [
      "Person is eligible for 10% Bonus and the bonus amount is  9000.0\n"
     ]
    }
   ],
   "source": [
    "# 3.\tScenario: A company provides employees with a 10% bonus if their salary exceeds $50,000.\n",
    "#  Write logic to determine the bonus amount based on the given salary.\n",
    "\n",
    "def BonusLogic():\n",
    "    Salary=int(input(\"Enter the Salary\"))\n",
    "    if(Salary>=50000):\n",
    "        Bonus = Salary * 0.10\n",
    "        print(\"Person is eligible for 10% Bonus and the bonus amount is \",Bonus)\n",
    "    else:\n",
    "        print(\"Employee is not eligible for Bonus\")\n",
    "\n",
    "BonusLogic()"
   ]
  },
  {
   "cell_type": "code",
   "execution_count": 38,
   "id": "fedf54b8-a94e-4e38-8295-0095dd3ea9ea",
   "metadata": {},
   "outputs": [
    {
     "name": "stdin",
     "output_type": "stream",
     "text": [
      "Enter the number  33\n"
     ]
    },
    {
     "name": "stdout",
     "output_type": "stream",
     "text": [
      "Number is Odd : 33\n"
     ]
    }
   ],
   "source": [
    "# 4.\tScenario: A program evaluates a number to determine if it is even or odd.\n",
    "#  Write logic to check whether a given number is even or odd.\n",
    "\n",
    "num=int(input(\"Enter the number \"))\n",
    "\n",
    "if(num%2==1):\n",
    "    print(\"Number is Odd :\", num)\n",
    "else:\n",
    "    print(\"Number is Even :\", num)"
   ]
  },
  {
   "cell_type": "code",
   "execution_count": null,
   "id": "c1e8dfa8-7a3f-4c58-8b35-d6193ee036fc",
   "metadata": {},
   "outputs": [],
   "source": [
    "# A text-processing tool reverses a given word or sentence for formatting purposes.\n",
    "#  Write logic to take a word or sentence as input and produce its reversed version.\n",
    "\n",
    "I couldnt get the logic , may need a help on this \n"
   ]
  },
  {
   "cell_type": "code",
   "execution_count": 41,
   "id": "42329a67-8f30-4ffc-9e5e-27e0e41b3816",
   "metadata": {},
   "outputs": [
    {
     "name": "stdin",
     "output_type": "stream",
     "text": [
      "Enter Student Mark  21\n"
     ]
    },
    {
     "name": "stdout",
     "output_type": "stream",
     "text": [
      "Failed and Passing Score is 40\n"
     ]
    }
   ],
   "source": [
    "# 6.\tScenario: A grading system determines whether a student has passed or failed based on their score.\n",
    "#  Write logic to check if a student has passed a subject by scoring at least 40 marks.\n",
    "\n",
    "def StudentPassStatus():\n",
    "    StudentMark=int(input(\"Enter Student Mark \"))\n",
    "    if StudentMark>=40:\n",
    "        print(\"Passed and Passing Score is 40\")\n",
    "    else:\n",
    "        print(\"Failed and Passing Score is 40\")\n",
    "StudentPassStatus()"
   ]
  },
  {
   "cell_type": "code",
   "execution_count": 60,
   "id": "2b8b0997-fd48-450a-a1a2-a3d246953e8d",
   "metadata": {},
   "outputs": [
    {
     "name": "stdin",
     "output_type": "stream",
     "text": [
      "Enter the Bill Amount $ 129.99\n"
     ]
    },
    {
     "name": "stdout",
     "output_type": "stream",
     "text": [
      "Bill Amount Exceeds more than $100 , 20% discount applied at Checkout\n",
      "Final Bill value is $ 103.992\n"
     ]
    }
   ],
   "source": [
    "# 7.\tScenario: A retail store offers a 20% discount if a customer’s total order\n",
    "# exceeds $100. Write logic to calculate the final amount to be paid after applying the discount.\n",
    "def RetailDiscount():\n",
    "    TotalBill=input(\"Enter the Bill Amount $\")\n",
    "    TotalBill=float(TotalBill)\n",
    "    if(TotalBill>=100):\n",
    "        finalamount= float(TotalBill-(TotalBill*0.20))\n",
    "        print(\"Bill Amount Exceeds more than $100 , 20% discount applied at Checkout\")\n",
    "        print(\"Final Bill value is $\",finalamount)\n",
    "    else:\n",
    "        print(\"Total bill Amount is \",TotalBill)\n",
    "\n",
    "RetailDiscount()"
   ]
  },
  {
   "cell_type": "code",
   "execution_count": 68,
   "id": "c05565f5-b579-4e5e-b328-fc3119c2e534",
   "metadata": {},
   "outputs": [
    {
     "name": "stdin",
     "output_type": "stream",
     "text": [
      "Enter the withdrawalAmount  1000\n"
     ]
    },
    {
     "name": "stdout",
     "output_type": "stream",
     "text": [
      "You are withdrawing money less than your Balance Amount Rs.5000 and remaning balance is  -4000.0\n"
     ]
    }
   ],
   "source": [
    "# 8.\tScenario: A banking system processes withdrawal requests and ensures the user has enough balance.\n",
    "\n",
    "#  Write logic to check if a user has enough balance before allowing a withdrawal and update the remaining balance accordingly.\n",
    "\n",
    "def checkbalance():\n",
    "    withdrawalAmount=int(input(\"Enter the withdrawalAmount \"))\n",
    "    #BalanceAmount = int(BalanceAmount)\n",
    "    BalanceAmount = 5000\n",
    "    if (withdrawalAmount<=BalanceAmount):\n",
    "        ReamaningAmount = withdrawalAmount-BalanceAmount\n",
    "        ReamaningAmount=float(ReamaningAmount)\n",
    "        print(\"You are withdrawing money less than your Balance Amount Rs.5000 and remaning balance is \",ReamaningAmount)\n",
    "    else:\n",
    "        print(\"You are withdrawing money Over than your Balance Amount Rs.5000\")\n",
    "\n",
    "checkbalance()\n",
    "        "
   ]
  },
  {
   "cell_type": "code",
   "execution_count": null,
   "id": "cf48ea1e-085a-4513-993c-388051dbba25",
   "metadata": {},
   "outputs": [],
   "source": [
    "# 9.\tScenario: A calendar system verifies whether a given year is a leap year based on standard leap year rules.\n",
    "#  Write logic to determine whether a given year is a leap year.\n",
    "\n",
    "I couldnt get the logic , may be need a help on this "
   ]
  },
  {
   "cell_type": "code",
   "execution_count": 71,
   "id": "f6ea617a-42a6-455c-a097-54d7d59a2832",
   "metadata": {},
   "outputs": [
    {
     "name": "stdout",
     "output_type": "stream",
     "text": [
      "2\n",
      "4\n",
      "18\n"
     ]
    }
   ],
   "source": [
    "# 10.\tScenario: A program filters out only even numbers from a given list.\n",
    "#  Write logic to extract and return only the even numbers from a list.\n",
    "\n",
    "filterlist=[2,3,11,4,18,25]\n",
    "for i in filterlist:\n",
    "    if(i%2)==0:\n",
    "        print(i)\n",
    "        "
   ]
  },
  {
   "cell_type": "code",
   "execution_count": null,
   "id": "965a9ea3-3760-445c-84da-8ecc71a88ffb",
   "metadata": {},
   "outputs": [],
   "source": []
  }
 ],
 "metadata": {
  "kernelspec": {
   "display_name": "Python [conda env:base] *",
   "language": "python",
   "name": "conda-base-py"
  },
  "language_info": {
   "codemirror_mode": {
    "name": "ipython",
    "version": 3
   },
   "file_extension": ".py",
   "mimetype": "text/x-python",
   "name": "python",
   "nbconvert_exporter": "python",
   "pygments_lexer": "ipython3",
   "version": "3.13.5"
  }
 },
 "nbformat": 4,
 "nbformat_minor": 5
}
