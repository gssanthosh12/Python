{
 "cells": [
  {
   "cell_type": "code",
   "execution_count": null,
   "id": "a9bf01b4-037d-4e5f-98aa-e3e9822ed48b",
   "metadata": {},
   "outputs": [],
   "source": [
    "numbers = [10, 20, 30]\n",
    "def num():\n",
    "    for num in numbers:\n",
    "        print(num)"
   ]
  },
  {
   "cell_type": "code",
   "execution_count": null,
   "id": "812f7176-01ef-420a-94f1-13724f560976",
   "metadata": {},
   "outputs": [],
   "source": [
    "num()"
   ]
  },
  {
   "cell_type": "code",
   "execution_count": 15,
   "id": "06196138-b9fa-44d6-9c46-3242f950386a",
   "metadata": {},
   "outputs": [
    {
     "name": "stdout",
     "output_type": "stream",
     "text": [
      "Sub-fields in AI are:\n",
      "MachineLearning\n",
      "NeuralNetworks\n",
      "Vision\n",
      "Robotics\n",
      "SpeechProcessing\n",
      "NaturalLanguageProcessing\n"
     ]
    }
   ],
   "source": [
    "AISubfields=['MachineLearning','NeuralNetworks','Vision','Robotics','SpeechProcessing','NaturalLanguageProcessing']\n",
    "def subFieldsAI():\n",
    "    print(\"Sub-fields in AI are:\")\n",
    "    for subFields in AISubfields:\n",
    "        print(subFields)\n",
    "\n",
    "\n",
    "subFieldsAI()\n",
    "        "
   ]
  },
  {
   "cell_type": "code",
   "execution_count": 16,
   "id": "1b21272d-27a7-46e5-9449-9c1c8af67f47",
   "metadata": {},
   "outputs": [
    {
     "name": "stdin",
     "output_type": "stream",
     "text": [
      "Enter the number  212121\n"
     ]
    },
    {
     "name": "stdout",
     "output_type": "stream",
     "text": [
      "212121  is Odd Number\n"
     ]
    }
   ],
   "source": [
    "\n",
    "number=int(input(\"Enter the number \"))\n",
    "def OddorEven():\n",
    "    if (number % 2 == 0):\n",
    "        print(number, \" is Even Number\")\n",
    "    else:\n",
    "        print(number, \" is Odd Number\")\n",
    "\n",
    "OddorEven()"
   ]
  },
  {
   "cell_type": "code",
   "execution_count": 10,
   "id": "eeb5d5e4-b0c1-48d1-b201-8925ce291b55",
   "metadata": {},
   "outputs": [
    {
     "name": "stdout",
     "output_type": "stream",
     "text": [
      "ELIGIBLE for Marriage\n"
     ]
    },
    {
     "data": {
      "text/plain": [
       "'Your Gender : Male\\nYour Age :25'"
      ]
     },
     "execution_count": 10,
     "metadata": {},
     "output_type": "execute_result"
    }
   ],
   "source": [
    "def check_marriage_eligibility(gender, age):\n",
    "    if gender==\"Male\":\n",
    "        if(age>=21):\n",
    "            print(\"ELIGIBLE for Marriage\")\n",
    "        else:\n",
    "            print(\"NOT ELIGIBLE for Marriage\")\n",
    "    if gender==\"Female\":\n",
    "        if(age>=18):\n",
    "            print(\"ELIGIBLE for Marriage\")\n",
    "        else:\n",
    "            print(\"NOT ELIGIBLE for Marriage\")\n",
    "    return f\"Your Gender : {gender}\\nYour Age :{age}\"\n",
    "       \n",
    "check_marriage_eligibility(\"Male\", 25)\n",
    "\n",
    "#I feel like i made some mistake >> Please correct "
   ]
  },
  {
   "cell_type": "code",
   "execution_count": 13,
   "id": "116e481d-1c55-40fd-bedb-a118f787c167",
   "metadata": {},
   "outputs": [
    {
     "data": {
      "text/plain": [
       "'subject1=98\\nsubject2=87\\nsubject3=95\\nsubject4=95\\nsubject5=93\\nTotal=468\\npercentage=93.60000000000001'"
      ]
     },
     "execution_count": 13,
     "metadata": {},
     "output_type": "execute_result"
    }
   ],
   "source": [
    "def calculatepercent(subject1,subject2,subject3,subject4,subject5):\n",
    "    Total=subject1+subject2+subject3+subject4+subject5\n",
    "    percentage=(Total / 500) * 100\n",
    "    return (f\"subject1={subject1}\\n\"\n",
    "            f\"subject2={subject2}\\n\"\n",
    "            f\"subject3={subject3}\\n\"\n",
    "            f\"subject4={subject4}\\n\"\n",
    "            f\"subject5={subject5}\\n\"\n",
    "            f\"Total={Total}\\n\"\n",
    "            f\"percentage={percentage}\")\n",
    "            \n",
    "    \n",
    "\n",
    "calculatepercent(98,87,95,95,93)\n",
    "\n",
    "#I Couldnt print this in next line using /n> Trying to understand where I am making the mistake >> Please correct "
   ]
  },
  {
   "cell_type": "code",
   "execution_count": 18,
   "id": "cd13d277-3d08-442c-936e-8c68fd8400e2",
   "metadata": {},
   "outputs": [
    {
     "name": "stdin",
     "output_type": "stream",
     "text": [
      "Height : 32\n",
      "Breadth : 34\n"
     ]
    },
    {
     "name": "stdout",
     "output_type": "stream",
     "text": [
      "Area formula: (Height*Breadth)/2\n",
      "Area of Triangle: 544.0\n"
     ]
    },
    {
     "name": "stdin",
     "output_type": "stream",
     "text": [
      "Height1: 2\n",
      "Height2: 3\n",
      "Breadth: 6\n"
     ]
    },
    {
     "name": "stdout",
     "output_type": "stream",
     "text": [
      "Perimeter formula: Height1+Height2+Breadth\n",
      "Perimeter of Triangle: 11\n"
     ]
    }
   ],
   "source": [
    "# perimeter of triangle = a + b + c, where, 'a', 'b', and 'c' are the sides of the triangle.\n",
    "# The area of a triangle is equal to half of the base times height, i.e. A = 1/2 × b × h.\n",
    "def Triangle_Area_Perimeter():\n",
    "    Height=int(input(\"Height :\"))\n",
    "    Breadth=int(input(\"Breadth :\"))\n",
    "    AreaofTriangle=(Height*Breadth)/2\n",
    "    print(\"Area formula: (Height*Breadth)/2\")\n",
    "    print(\"Area of Triangle:\",AreaofTriangle)\n",
    "    a=int(input(\"Height1:\"))\n",
    "    b=int(input(\"Height2:\"))\n",
    "    c=int(input(\"Breadth:\"))\n",
    "    PerimeterofTriangle = a+b+c\n",
    "    print(\"Perimeter formula: Height1+Height2+Breadth\")\n",
    "    print(\"Perimeter of Triangle:\",PerimeterofTriangle)\n",
    "\n",
    "\n",
    "Triangle_Area_Perimeter()\n"
   ]
  },
  {
   "cell_type": "code",
   "execution_count": null,
   "id": "1f507303-46c7-4710-9ae3-f8388f276c59",
   "metadata": {},
   "outputs": [],
   "source": []
  }
 ],
 "metadata": {
  "kernelspec": {
   "display_name": "Python [conda env:base] *",
   "language": "python",
   "name": "conda-base-py"
  },
  "language_info": {
   "codemirror_mode": {
    "name": "ipython",
    "version": 3
   },
   "file_extension": ".py",
   "mimetype": "text/x-python",
   "name": "python",
   "nbconvert_exporter": "python",
   "pygments_lexer": "ipython3",
   "version": "3.13.5"
  }
 },
 "nbformat": 4,
 "nbformat_minor": 5
}
