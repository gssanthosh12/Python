{
 "cells": [
  {
   "cell_type": "code",
   "execution_count": 1,
   "id": "f813711c-aaa9-483c-8667-8b2e105df80d",
   "metadata": {},
   "outputs": [
    {
     "name": "stdout",
     "output_type": "stream",
     "text": [
      "Welcome to Assignment-1\n"
     ]
    }
   ],
   "source": [
    "print(\"Welcome to Assignment-1\")"
   ]
  },
  {
   "cell_type": "code",
   "execution_count": 4,
   "id": "4407e666-65a5-4e4d-8fcd-f0881d6c98d9",
   "metadata": {},
   "outputs": [
    {
     "name": "stdin",
     "output_type": "stream",
     "text": [
      "Num1 = 20\n",
      "Num2 = 30\n"
     ]
    },
    {
     "name": "stdout",
     "output_type": "stream",
     "text": [
      "Add = 50\n"
     ]
    }
   ],
   "source": [
    "num1 = int(input(\"Num1 =\"))\n",
    "num2 = int(input(\"Num2 =\"))\n",
    "\n",
    "add = num1+num2\n",
    "print(\"Add =\",add)"
   ]
  },
  {
   "cell_type": "code",
   "execution_count": 18,
   "id": "16f7ec77-8813-4603-833b-edf9778a401d",
   "metadata": {},
   "outputs": [],
   "source": [
    "# BMI Refrence Values\n",
    "\n",
    "# Underweight: BMI less than 18.5.\n",
    "# Healthy Weight (Normal Range): BMI between 18.5 and 24.9.\n",
    "# Overweight: BMI between 25 and 29.9.\n",
    "# Obesity: BMI of 30 or higher.\n",
    "# Obesity Class I: BMI between 30 and 34.9.\n",
    "# Obesity Class II: BMI between 35 and 39.9.\n",
    "# Obesity Class III (Severe/Morbid Obesity): BMI of 40 or higher.\n"
   ]
  },
  {
   "cell_type": "code",
   "execution_count": 32,
   "id": "39d35000-3141-47f6-a801-95211e92a7d2",
   "metadata": {},
   "outputs": [
    {
     "name": "stdin",
     "output_type": "stream",
     "text": [
      "Enter the BMI Index:  28.976\n"
     ]
    },
    {
     "name": "stdout",
     "output_type": "stream",
     "text": [
      "OverWeight\n"
     ]
    }
   ],
   "source": [
    "BMI = float(input(\"Enter the BMI Index: \"))\n",
    "\n",
    "if(BMI<18.5):\n",
    "   print(\"Underweight\")\n",
    "elif(BMI>=18.5 and BMI<=24.9):\n",
    "   print(\"BMI is in Normal Range\")\n",
    "elif(BMI>=25 and BMI<=29.9):\n",
    "   print(\"OverWeight\")\n",
    "elif(BMI>=30 and BMI<=34.9):\n",
    "   print(\"Obesity Class I\")\n",
    "elif(BMI>=35 and BMI<=39.9):\n",
    "   print(\"Obesity Class II\")\n",
    "else:\n",
    "   print(\"Obesity Class III with Severe/Morbid Obesity \")\n",
    "         \n",
    "          "
   ]
  },
  {
   "cell_type": "code",
   "execution_count": null,
   "id": "1b4cc361-161e-443a-8b0a-57a48428ebe8",
   "metadata": {},
   "outputs": [],
   "source": []
  }
 ],
 "metadata": {
  "kernelspec": {
   "display_name": "Python [conda env:base] *",
   "language": "python",
   "name": "conda-base-py"
  },
  "language_info": {
   "codemirror_mode": {
    "name": "ipython",
    "version": 3
   },
   "file_extension": ".py",
   "mimetype": "text/x-python",
   "name": "python",
   "nbconvert_exporter": "python",
   "pygments_lexer": "ipython3",
   "version": "3.13.5"
  }
 },
 "nbformat": 4,
 "nbformat_minor": 5
}
